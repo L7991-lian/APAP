{
 "cells": [
  {
   "cell_type": "code",
   "execution_count": null,
   "id": "462076eb-550b-42c2-aea2-1fff555f2457",
   "metadata": {},
   "outputs": [],
   "source": [
    "# 2025年构建内皮细胞调控网络\n",
    "#!/usr/bin/env python\n",
    "# coding: utf-8\n",
    "### used this script\n",
    "\n",
    "#supress warnings\n",
    "import os\n",
    "os.environ['KMP_AFFINITY'] = ''\n",
    "import warnings\n",
    "import pandas as pd\n",
    "import numpy as np\n",
    "import pyranges as pr\n",
    "import requests\n",
    "import pandas as pd\n",
    "import scanpy as sc\n",
    "import pickle as pickle\n",
    "import dill\n",
    "warnings.simplefilter(action='ignore', category=FutureWarning)\n",
    "import sys\n",
    "work_dir = '/data2/lijinlian/APAP/scenicplus/Endo_scRNA_Hbefg_scATAC7_scenicplus_25_1/out_4'\n",
    "if not os.path.exists(work_dir):\n",
    "    os.makedirs(work_dir)\n",
    "os.chdir(work_dir)\n",
    "print(\"更改后的工作目录:\", os.getcwd())"
   ]
  },
  {
   "cell_type": "code",
   "execution_count": null,
   "id": "db258135-e6f6-4bd7-ad25-4a0502e6f0cd",
   "metadata": {},
   "outputs": [],
   "source": [
    "import dill\n",
    "scplus_obj = dill.load(open(os.path.join(\"/data2/lijinlian/APAP/scenicplus/Endo_scRNA_Hbefg_scATAC7_scenicplus_25_1/\", 'scenicplus/scplus_obj.pkl'), 'rb'))\n",
    "scplus_obj.uns['eRegulon_metadata'].to_csv('eRegulon_metadata_result3.csv', index=True)\n",
    "scplus_obj.uns.keys()"
   ]
  },
  {
   "cell_type": "code",
   "execution_count": null,
   "id": "4a2e394a-0930-4d72-b93c-2bde42597d2f",
   "metadata": {},
   "outputs": [],
   "source": [
    "print(\"All TFs: \")\n",
    "scplus_obj.uns['eRegulon_metadata']['TF'].unique()"
   ]
  }
 ],
 "metadata": {
  "kernelspec": {
   "display_name": "Python 3 (ipykernel)",
   "language": "python",
   "name": "python3"
  },
  "language_info": {
   "codemirror_mode": {
    "name": "ipython",
    "version": 3
   },
   "file_extension": ".py",
   "mimetype": "text/x-python",
   "name": "python",
   "nbconvert_exporter": "python",
   "pygments_lexer": "ipython3",
   "version": "3.10.15"
  }
 },
 "nbformat": 4,
 "nbformat_minor": 5
}
